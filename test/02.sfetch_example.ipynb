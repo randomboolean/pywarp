{
 "cells": [
  {
   "cell_type": "code",
   "execution_count": 1,
   "id": "c0a9928f-c3b0-4ddf-a86d-4f5bacb61d33",
   "metadata": {},
   "outputs": [],
   "source": [
    "import pywarp"
   ]
  },
  {
   "cell_type": "code",
   "execution_count": 2,
   "id": "6905602e-1774-478c-b808-a8c69921d0ae",
   "metadata": {},
   "outputs": [],
   "source": [
    "url = 'https://sandbox.senx.io/api/v0/fetch'\n",
    "token = '<Your-read-token>'"
   ]
  },
  {
   "cell_type": "code",
   "execution_count": 3,
   "id": "435b7e50-29cf-4276-bc69-1de2d0b0d6c2",
   "metadata": {},
   "outputs": [],
   "source": [
    "df_list = pywarp.sfetch(url, token, '~.*{}', 'now', '-10', indexedByTimestamp=True)"
   ]
  },
  {
   "cell_type": "code",
   "execution_count": 4,
   "id": "e20029b4-2473-4c8e-bce5-571ad5c72719",
   "metadata": {},
   "outputs": [
    {
     "data": {
      "text/plain": [
       "list"
      ]
     },
     "execution_count": 4,
     "metadata": {},
     "output_type": "execute_result"
    }
   ],
   "source": [
    "type(df_list)"
   ]
  },
  {
   "cell_type": "code",
   "execution_count": 5,
   "id": "4a7a77e8-5d3b-4341-8cd8-b101f5dfc4c6",
   "metadata": {},
   "outputs": [
    {
     "data": {
      "text/plain": [
       "[                  value:room.temperature.10x\n",
       " 1697792621461327                         211\n",
       " 1697786471461327                         211\n",
       " 1697786441461327                         212\n",
       " 1697785451461327                         212\n",
       " 1697785421453309                         212\n",
       " 1697781861453309                         212\n",
       " 1697781831443844                         212\n",
       " 1697779891443844                         212\n",
       " 1697779871443844                         213\n",
       " 1697778251443844                         213,\n",
       "                   value:outside.temperature\n",
       " 1697792631461327                       15.0\n",
       " 1697792621461327                       15.0\n",
       " 1697792611461327                       15.1\n",
       " 1697792601461327                       15.0\n",
       " 1697792591461327                       15.1\n",
       " 1697792581461327                       15.1\n",
       " 1697792571461327                       15.0\n",
       " 1697792561461327                       15.1\n",
       " 1697792551461327                       15.0\n",
       " 1697792541461327                       15.0,\n",
       "                   value:outside.temperature\n",
       " 1697792631461327                       15.0\n",
       " 1697792621461327                       15.0\n",
       " 1697792611461327                       15.1\n",
       " 1697792601461327                       15.0\n",
       " 1697792591461327                       15.1\n",
       " 1697792581461327                       15.1\n",
       " 1697792571461327                       15.0\n",
       " 1697792561461327                       15.1\n",
       " 1697792551461327                       15.0\n",
       " 1697792541461327                       15.0,\n",
       "                   value:sanitary.water.temperature.10x\n",
       " 1697792621461327                                   509\n",
       " 1697791851461327                                   509\n",
       " 1697791841461327                                   508\n",
       " 1697791711461327                                   508\n",
       " 1697791691461327                                   507\n",
       " 1697791681461327                                   507\n",
       " 1697791671461327                                   506\n",
       " 1697791661461327                                   505\n",
       " 1697791631461327                                   499\n",
       " 1697791621461327                                   498,\n",
       "                   value:heatpump.power\n",
       " 1697792631461327                  10.2\n",
       " 1697792621461327                  10.0\n",
       " 1697792611461327                  10.2\n",
       " 1697792601461327                  10.4\n",
       " 1697792591461327                  10.4\n",
       " 1697792581461327                  10.2\n",
       " 1697792571461327                   9.7\n",
       " 1697792561461327                  10.2\n",
       " 1697792551461327                  10.4\n",
       " 1697792541461327                  10.2,\n",
       "                   value:sanitary.water.temperature\n",
       " 1697792621461327                               509\n",
       " 1697791851461327                               509\n",
       " 1697791841461327                               508\n",
       " 1697791711461327                               508\n",
       " 1697791691461327                               507\n",
       " 1697791681461327                               507\n",
       " 1697791671461327                               506\n",
       " 1697791661461327                               505\n",
       " 1697791631461327                               499\n",
       " 1697791621461327                               498,\n",
       "                   value:heatpump.kwh.total\n",
       " 1697792621461327                    4466.5\n",
       " 1697791531461327                    4466.5\n",
       " 1697791501461327                    4466.4\n",
       " 1697791301461327                    4466.4\n",
       " 1697791281461327                    4466.3\n",
       " 1697791071461327                    4466.3\n",
       " 1697791031461327                    4466.2\n",
       " 1697790831461327                    4466.2\n",
       " 1697790821461327                    4466.1\n",
       " 1697790581461327                    4466.1,\n",
       "                   value:heater.setpoint.10x\n",
       " 1697792621461327                        210\n",
       " 1697785451461327                        210\n",
       " 1697785421453309                        210\n",
       " 1697781861453309                        210\n",
       " 1697781831443844                        210\n",
       " 1697778251443844                        210\n",
       " 1697778221436373                        210\n",
       " 1697774661436373                        210\n",
       " 1697774631449496                        210\n",
       " 1697771061449496                        210,\n",
       "                   value:ventilation.kwh.total\n",
       " 1697792621461327                        481.5\n",
       " 1697786171461327                        481.5\n",
       " 1697786151461327                        481.4\n",
       " 1697785441461327                        481.4\n",
       " 1697785411453309                        481.4\n",
       " 1697781861453309                        481.4\n",
       " 1697781831443844                        481.4\n",
       " 1697778251443844                        481.4\n",
       " 1697778221436373                        481.4\n",
       " 1697774661436373                        481.4,\n",
       "                   value:watermeter.pulsecount\n",
       " 1697787651461327                          202\n",
       " 1697787591461327                          197\n",
       " 1697787531461327                          191\n",
       " 1697787471461327                          185\n",
       " 1697787411461327                          179\n",
       " 1697787351461327                          173\n",
       " 1697787291461327                          168\n",
       " 1697787231461327                          162\n",
       " 1697787171461327                          156\n",
       " 1697787111461327                          150]"
      ]
     },
     "execution_count": 5,
     "metadata": {},
     "output_type": "execute_result"
    }
   ],
   "source": [
    "df_list"
   ]
  },
  {
   "cell_type": "code",
   "execution_count": 6,
   "id": "9b34e135-11b3-43cf-9578-e3a9375023d4",
   "metadata": {},
   "outputs": [
    {
     "data": {
      "text/plain": [
       "pandas.core.frame.DataFrame"
      ]
     },
     "execution_count": 6,
     "metadata": {},
     "output_type": "execute_result"
    }
   ],
   "source": [
    "type(df_list[0])"
   ]
  },
  {
   "cell_type": "code",
   "execution_count": 7,
   "id": "4a216b88-853c-4a94-adf0-362880e8cf18",
   "metadata": {},
   "outputs": [
    {
     "data": {
      "text/html": [
       "<div>\n",
       "<style scoped>\n",
       "    .dataframe tbody tr th:only-of-type {\n",
       "        vertical-align: middle;\n",
       "    }\n",
       "\n",
       "    .dataframe tbody tr th {\n",
       "        vertical-align: top;\n",
       "    }\n",
       "\n",
       "    .dataframe thead th {\n",
       "        text-align: right;\n",
       "    }\n",
       "</style>\n",
       "<table border=\"1\" class=\"dataframe\">\n",
       "  <thead>\n",
       "    <tr style=\"text-align: right;\">\n",
       "      <th></th>\n",
       "      <th>value:room.temperature.10x</th>\n",
       "    </tr>\n",
       "  </thead>\n",
       "  <tbody>\n",
       "    <tr>\n",
       "      <th>1697792621461327</th>\n",
       "      <td>211</td>\n",
       "    </tr>\n",
       "    <tr>\n",
       "      <th>1697786471461327</th>\n",
       "      <td>211</td>\n",
       "    </tr>\n",
       "    <tr>\n",
       "      <th>1697786441461327</th>\n",
       "      <td>212</td>\n",
       "    </tr>\n",
       "    <tr>\n",
       "      <th>1697785451461327</th>\n",
       "      <td>212</td>\n",
       "    </tr>\n",
       "    <tr>\n",
       "      <th>1697785421453309</th>\n",
       "      <td>212</td>\n",
       "    </tr>\n",
       "    <tr>\n",
       "      <th>1697781861453309</th>\n",
       "      <td>212</td>\n",
       "    </tr>\n",
       "    <tr>\n",
       "      <th>1697781831443844</th>\n",
       "      <td>212</td>\n",
       "    </tr>\n",
       "    <tr>\n",
       "      <th>1697779891443844</th>\n",
       "      <td>212</td>\n",
       "    </tr>\n",
       "    <tr>\n",
       "      <th>1697779871443844</th>\n",
       "      <td>213</td>\n",
       "    </tr>\n",
       "    <tr>\n",
       "      <th>1697778251443844</th>\n",
       "      <td>213</td>\n",
       "    </tr>\n",
       "  </tbody>\n",
       "</table>\n",
       "</div>"
      ],
      "text/plain": [
       "                  value:room.temperature.10x\n",
       "1697792621461327                         211\n",
       "1697786471461327                         211\n",
       "1697786441461327                         212\n",
       "1697785451461327                         212\n",
       "1697785421453309                         212\n",
       "1697781861453309                         212\n",
       "1697781831443844                         212\n",
       "1697779891443844                         212\n",
       "1697779871443844                         213\n",
       "1697778251443844                         213"
      ]
     },
     "execution_count": 7,
     "metadata": {},
     "output_type": "execute_result"
    }
   ],
   "source": [
    "df_list[0]"
   ]
  },
  {
   "cell_type": "code",
   "execution_count": 8,
   "id": "854ea8ed-e258-4fb8-bc2e-f826c4a13d00",
   "metadata": {},
   "outputs": [
    {
     "data": {
      "text/plain": [
       "{'warp10.classname': 'room.temperature.10x',\n",
       " 'warp10.labels': {'unit': 'celsius',\n",
       "  'serial': '48779',\n",
       "  '.app': 'sandbox.tutorial'},\n",
       " 'warp10.attributes': {}}"
      ]
     },
     "execution_count": 8,
     "metadata": {},
     "output_type": "execute_result"
    }
   ],
   "source": [
    "df_list[0].attrs"
   ]
  },
  {
   "cell_type": "code",
   "execution_count": null,
   "id": "23fccfc2-fd3b-4197-8b73-ff92a5c631e9",
   "metadata": {},
   "outputs": [],
   "source": []
  }
 ],
 "metadata": {
  "kernelspec": {
   "display_name": "Python 3 (ipykernel)",
   "language": "python",
   "name": "python3"
  },
  "language_info": {
   "codemirror_mode": {
    "name": "ipython",
    "version": 3
   },
   "file_extension": ".py",
   "mimetype": "text/x-python",
   "name": "python",
   "nbconvert_exporter": "python",
   "pygments_lexer": "ipython3",
   "version": "3.11.5"
  }
 },
 "nbformat": 4,
 "nbformat_minor": 5
}
